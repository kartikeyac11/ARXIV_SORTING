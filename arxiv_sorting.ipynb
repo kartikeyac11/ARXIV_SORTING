{
 "cells": [
  {
   "cell_type": "code",
   "execution_count": 3,
   "id": "76784161-6d4f-422b-a8e7-0d47bc41778d",
   "metadata": {},
   "outputs": [
    {
     "name": "stdout",
     "output_type": "stream",
     "text": [
      "2103.10440 - Bootstrapping the half-BPS line defect CFT in $\\mathcal{N}=4$ SYM at strong coupling (2021-03-18)\n",
      "2001.11039 - Excited States of One-Dimensional Defect CFTs from the Quantum Spectral Curve (2020-01-29)\n",
      "1911.12388 - Crossing symmetry, transcendentality and the Regge behaviour of 1d CFTs (2019-11-27)\n",
      "1906.07195 - AdS$_4$/CFT$_3$ from Weak to Strong String Coupling (2019-06-17)\n",
      "1812.06394 - OPE Selection Rules for Schur Multiplets in 4D $\\mathcal{N}=2$ Superconformal Field Theories (2018-12-16)\n",
      "1806.01862 - Bootstrapping the half-BPS line defect (2018-06-05)\n",
      "1806.01862 - Bootstrapping the half-BPS line defect (2018-06-05)\n",
      "1712.02314 - Taming the $ε$-expansion with Large Spin Perturbation Theory (2017-12-06)\n",
      "1709.00008 - A tauberian theorem for the conformal bootstrap (2017-08-31)\n",
      "1706.02822 - Quantum Gravity from Conformal Field Theory (2017-06-09)\n",
      "1706.00756 - Half-BPS Wilson loop and AdS$_2$/CFT$_1$ (2017-06-02)\n",
      "1706.00756 - Half-BPS Wilson loop and AdS$_2$/CFT$_1$ (2017-06-02)\n",
      "1703.03812 - The Wilson loop CFT: Insertion dimensions and structure constants from wavy lines (2017-03-10)\n",
      "1703.03812 - The Wilson loop CFT: Insertion dimensions and structure constants from wavy lines (2017-03-10)\n",
      "1612.03891 - Loops in AdS from Conformal Field Theory (2016-12-12)\n",
      "1612.03891 - Loops in AdS from Conformal Field Theory (2016-12-12)\n",
      "1612.03891 - Loops in AdS from Conformal Field Theory (2016-12-12)\n",
      "1608.05126 - Bootstrap equations for $\\mathcal{N}=4$ SYM with defects (2016-08-17)\n",
      "1608.05126 - Bootstrap equations for $\\mathcal{N}=4$ SYM with defects (2016-08-17)\n",
      "1202.4455 - An exact formula for the radiation of a moving quark in N=4 super Yang Mills (2012-02-20)\n",
      "1110.0458 - From polygons and symbols to polylogarithmic functions (2011-10-03)\n",
      "1105.5144 - Generalized quark-antiquark potential at weak and strong coupling (2011-05-25)\n",
      "0804.3973 - Supersymmetric Wilson loops at two loops (2008-04-24)\n",
      "hep-th/0405288 - Wavy Wilson Line and AdS/CFT (2004-05-31)\n",
      "hep-th/0306133 - Quantum Field Theory in the Large N Limit: a review (2003-06-13)\n"
     ]
    }
   ],
   "source": [
    "import arxiv\n",
    "import re\n",
    "\n",
    "# List of ArXiv IDs from your file\n",
    "arxiv_ids = [\n",
    "    \"2103.10440\", \"1703.03812\", \"1612.03891\", \"1110.0458\", \"1806.01862\",\n",
    "    \"1608.05126\", \"1703.03812\", \"1608.05126\", \"1911.12388\", \"1706.02822\",\n",
    "    \"1612.03891\", \"1712.02314\", \"1806.01862\", \"1709.00008\", \"1706.00756\",\n",
    "    \"0306133\", \"2001.11039\", \"1906.07195\", \"0405288\", \"0804.3973\",\n",
    "    \"1612.03891\", \"1706.00756\", \"1105.5144\", \"1202.4455\", \"1812.06394\"\n",
    "]\n",
    "\n",
    "# Function to determine the correct format of the ID\n",
    "def format_arxiv_id(arxiv_id):\n",
    "    # Check if the ID is in the old format\n",
    "    if re.match(r'^\\d{7}$', arxiv_id):\n",
    "        return f\"hep-th/{arxiv_id[:2]}{arxiv_id[2:]}\"  # Assuming old hep-th format\n",
    "    elif re.match(r'^\\d{4}\\.\\d{4,5}$', arxiv_id):\n",
    "        return arxiv_id  # New format\n",
    "    else:\n",
    "        return arxiv_id  # Fallback if already correct\n",
    "\n",
    "# Create a client instance\n",
    "client = arxiv.Client()\n",
    "\n",
    "# Fetch metadata for each ArXiv ID\n",
    "papers = []\n",
    "for arxiv_id in arxiv_ids:\n",
    "    formatted_id = format_arxiv_id(arxiv_id)\n",
    "    try:\n",
    "        # Use Client.results with Search to get paper metadata\n",
    "        search = arxiv.Search(id_list=[formatted_id])\n",
    "        results = client.results(search)\n",
    "        paper = next(results, None)\n",
    "        if paper:\n",
    "            papers.append((paper.published, paper.title, formatted_id))\n",
    "    except Exception as e:\n",
    "        print(f\"Error fetching data for {formatted_id}: {e}\")\n",
    "\n",
    "# Sort papers by publication date, latest first\n",
    "sorted_papers = sorted(papers, key=lambda x: x[0], reverse=True)\n",
    "\n",
    "# Display sorted papers\n",
    "for pub_date, title, arxiv_id in sorted_papers:\n",
    "    print(f\"{arxiv_id} - {title} ({pub_date.date()})\")\n",
    "\n"
   ]
  },
  {
   "cell_type": "code",
   "execution_count": null,
   "id": "16279181-1a50-4ce1-ad73-f25e95cb814a",
   "metadata": {},
   "outputs": [],
   "source": []
  }
 ],
 "metadata": {
  "kernelspec": {
   "display_name": "Python 3 (ipykernel)",
   "language": "python",
   "name": "python3"
  },
  "language_info": {
   "codemirror_mode": {
    "name": "ipython",
    "version": 3
   },
   "file_extension": ".py",
   "mimetype": "text/x-python",
   "name": "python",
   "nbconvert_exporter": "python",
   "pygments_lexer": "ipython3",
   "version": "3.10.12"
  }
 },
 "nbformat": 4,
 "nbformat_minor": 5
}
